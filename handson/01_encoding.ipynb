{
 "cells": [
  {
   "cell_type": "markdown",
   "metadata": {},
   "source": [
    "# Hands-on Tutorial for Encoding Analysis (Predicting fMRI responses from DNN features)"
   ]
  },
  {
   "cell_type": "markdown",
   "metadata": {},
   "source": [
    "This notebook provides a hands-on tutorial for encoding analysis, which predicts fMRI responses from DNN features."
   ]
  },
  {
   "cell_type": "markdown",
   "metadata": {},
   "source": [
    "## Environment setup"
   ]
  },
  {
   "cell_type": "markdown",
   "metadata": {},
   "source": [
    "Here we're installing required packages for the tutorial."
   ]
  },
  {
   "cell_type": "code",
   "execution_count": null,
   "metadata": {},
   "outputs": [],
   "source": [
    "!curl -O https://raw.githubusercontent.com/KamitaniLab/feature-encoding/main/requirements.txt\n",
    "!pip install -r requirements.txt"
   ]
  },
  {
   "cell_type": "code",
   "execution_count": null,
   "metadata": {},
   "outputs": [],
   "source": [
    "import os\n",
    "from itertools import product\n",
    "\n",
    "import bdpy\n",
    "from bdpy.dataform import Features, DecodedFeatures, load_array, save_array\n",
    "from bdpy.ml import ModelTraining, ModelTest\n",
    "from fastl2lir import FastL2LiR\n",
    "import numpy as np"
   ]
  },
  {
   "cell_type": "markdown",
   "metadata": {},
   "source": [
    "## Data preparation"
   ]
  },
  {
   "cell_type": "markdown",
   "metadata": {},
   "source": [
    "Here we're downloading the data for the tutorial."
   ]
  },
  {
   "cell_type": "code",
   "execution_count": null,
   "metadata": {},
   "outputs": [],
   "source": [
    "!mkdir data\n",
    "!curl -O https://raw.githubusercontent.com/KamitaniLab/feature-encoding/main/data/download.py\n",
    "!curl -O https://raw.githubusercontent.com/KamitaniLab/feature-encoding/main/data/files.json\n",
    "!python download.py fmri_deeprecon_sub-03_fmriprep_hcpvc\n",
    "!python download.py features_imagenet_training_vgg19_random5000\n",
    "!python download.py features_imagenet_test_vgg19_random5000\n",
    "!mv fmri data/\n",
    "!mv features data/\n",
    "!ls -la data/"
   ]
  },
  {
   "cell_type": "code",
   "execution_count": null,
   "metadata": {},
   "outputs": [],
   "source": [
    "!rm -rf data\n",
    "!ln -s ../data\n",
    "!ls -la data/features/ImageNetTraining/caffe/"
   ]
  },
  {
   "cell_type": "code",
   "execution_count": null,
   "metadata": {},
   "outputs": [],
   "source": [
    "# Data setting\n",
    "\n",
    "subject = \"sub-03\"\n",
    "rois = ['V1', 'V2', 'V3', 'V4', 'VentralVC']\n",
    "\n",
    "network = \"caffe/VGG19\"\n",
    "layers = [\"conv1_2\", \"fc8\"]\n",
    "\n",
    "training_fmri_path    = f\"./data/fmri/Deeprecon/{subject}_ImageNetTraining_fmriprep_volume_native_hcpvc.h5\"\n",
    "training_feature_path = f\"./data/features/ImageNetTraining/{network}_random5000\"\n",
    "\n",
    "test_fmri_path    = f\"./data/fmri/Deeprecon/{subject}_ImageNetTest_fmriprep_volume_native_hcpvc.h5\"\n",
    "test_feature_path = f\"./data/features/ImageNetTest/{network}_random5000\"\n",
    "\n",
    "# Outputs\n",
    "encoding_model_path = f\"./data/feature_encoders/handson/{network}_random5000\"\n",
    "encoded_fmri_path   = f\"./data/encoded_fmri/handson/{network}_random5000\"\n",
    "\n",
    "os.makedirs(encoding_model_path, exist_ok=True)\n",
    "os.makedirs(encoded_fmri_path, exist_ok=True)"
   ]
  },
  {
   "cell_type": "markdown",
   "metadata": {},
   "source": [
    "## Training of encoding models"
   ]
  },
  {
   "cell_type": "code",
   "execution_count": null,
   "metadata": {},
   "outputs": [],
   "source": [
    "# Parameters of the encoding model\n",
    "\n",
    "# L2 regularization parameter\n",
    "alpha = 100\n",
    "\n",
    "# Number of features to select\n",
    "num_features = 500"
   ]
  },
  {
   "cell_type": "code",
   "execution_count": null,
   "metadata": {},
   "outputs": [],
   "source": [
    "# Load training data (fMRI and features)\n",
    "\n",
    "train_fmri = bdpy.BData(training_fmri_path)\n",
    "train_features = Features(training_feature_path)"
   ]
  },
  {
   "cell_type": "code",
   "execution_count": null,
   "metadata": {},
   "outputs": [],
   "source": [
    "# Helper function to train the encoding model\n",
    "\n",
    "def train_model(layer, roi):\n",
    "    print(\"----------------------------------------\")\n",
    "    print(f\"Encoding: {layer} features -> {roi} fMRI\")\n",
    "\n",
    "    # Output directory\n",
    "    model_dir = os.path.join(encoding_model_path, layer, subject, roi)\n",
    "\n",
    "    # Extract fMRI data in the ROI\n",
    "    brain = train_fmri.select(f\"hcp180_{roi}\")\n",
    "    brain_labels = train_fmri.get_labels(\"stimulus_name\")\n",
    "    print(\"The shape of fMRI data array: \", brain.shape)\n",
    "\n",
    "    # Extract features\n",
    "    feat = train_features.get(layer)\n",
    "    feat_labels = train_features.labels\n",
    "    print(\"The shape of feature data array: \", feat.shape)\n",
    "\n",
    "    # Normalize data\n",
    "    brain_mean = np.mean(brain, axis=0)\n",
    "    brain_norm = np.std(brain, axis=0)\n",
    "    feat_mean = np.mean(feat, axis=0)\n",
    "    feat_norm = np.std(feat, axis=0)\n",
    "\n",
    "    # Align fMRI data and features\n",
    "    feat_index = np.array([np.where(np.array(feat_labels) == bl) for bl in brain_labels]).flatten()\n",
    "\n",
    "    feat = feat[feat_index]\n",
    "    print(\"The shape of aligned feature data array: \", feat.shape)\n",
    "\n",
    "    # Setup model\n",
    "    model = FastL2LiR()\n",
    "    model_param = {\n",
    "        'alpha':  alpha,\n",
    "        'n_feat': num_features,\n",
    "        'dtype':  np.float32\n",
    "    }\n",
    "\n",
    "    # Setup model learner\n",
    "    train = ModelTraining(model, feat, brain)\n",
    "    train.model_parameters = model_param\n",
    "\n",
    "    train.X_normalize = {'mean': feat_mean,  'std': feat_norm}\n",
    "    train.Y_normalize = {'mean': brain_mean, 'std': brain_norm}\n",
    "    train.X_sort = {'index': feat_index}\n",
    "\n",
    "    train.dtype = np.float32\n",
    "    train.save_format = 'bdmodel'\n",
    "    train.save_path = model_dir\n",
    "\n",
    "    # Training\n",
    "    train.run()\n"
   ]
  },
  {
   "cell_type": "code",
   "execution_count": null,
   "metadata": {},
   "outputs": [],
   "source": [
    "# Train model for fc8 and V4\n",
    "\n",
    "train_model(\"fc8\", \"V4\")"
   ]
  },
  {
   "cell_type": "code",
   "execution_count": null,
   "metadata": {},
   "outputs": [],
   "source": [
    "# Train models for all layers and ROIs\n",
    "\n",
    "for layer, roi in product(layers, rois):\n",
    "    train_model(layer, roi)"
   ]
  },
  {
   "cell_type": "markdown",
   "metadata": {},
   "source": [
    "## Prediction of fMRI responses"
   ]
  },
  {
   "cell_type": "code",
   "execution_count": null,
   "metadata": {},
   "outputs": [],
   "source": [
    "# Load test data (fMRI and features)\n",
    "\n",
    "test_fmri = bdpy.BData(test_fmri_path)\n",
    "test_features = Features(test_feature_path)"
   ]
  },
  {
   "cell_type": "code",
   "execution_count": null,
   "metadata": {},
   "outputs": [],
   "source": [
    "# Predict fMRI responses\n",
    "\n",
    "for layer, roi in product(layers, rois):\n",
    "    print(\"----------------------------------------\")\n",
    "    print(f\"Encoding: {layer} features -> {roi} fMRI\")\n",
    "\n",
    "    # Output directory\n",
    "    output_dir = os.path.join(encoded_fmri_path, layer, sbj, roi)\n",
    "\n",
    "    # Trained encoding model\n",
    "    model_dir = os.path.join(encoding_model_path, layer, sbj, roi, \"model\")\n",
    "\n",
    "    # Extract features\n",
    "    feat = test_features.get(layer=layer)\n",
    "    feat = feat.astype(np.float32)\n",
    "    feat = feat.reshape(feat.shape[0], -1, order='F')\n",
    "    feat_labels = test_features.labels\n",
    "    print(\"The shape of feature data array: \", feat.shape)\n",
    "\n",
    "    # Normalize data by mean and SD of training data\n",
    "    feat_mean = load_array(os.path.join(model_dir, 'x_mean.mat'), key='x_mean')  # shape = (1, n_voxels)\n",
    "    feat_norm = load_array(os.path.join(model_dir, 'x_norm.mat'), key='x_norm')  # shape = (1, n_voxels)\n",
    "\n",
    "    feat = (feat - feat_mean) / feat_norm\n",
    "\n",
    "    # Prediction\n",
    "    model = FastL2LiR()\n",
    "    test = ModelTest(model, feat)\n",
    "    test.model_format = 'bdmodel'\n",
    "    test.model_path = model_dir\n",
    "    test.dtype = np.float32\n",
    "\n",
    "    brain_pred = test.run()\n",
    "\n",
    "    print(\"The shape of predicted fMRI data array: \", brain_pred.shape)\n",
    "\n",
    "    # De-normalize predicted fMRI data\n",
    "    brain_mean = load_array(os.path.join(model_dir, 'y_mean.mat'), key='y_mean')  # shape = (1, shape_features)\n",
    "    brain_norm = load_array(os.path.join(model_dir, 'y_norm.mat'), key='y_norm')  # shape = (1, shape_features)\n",
    "\n",
    "    brain_pred = brain_pred * brain_norm + brain_mean\n",
    "\n",
    "    # Save the predicted fMRI responses\n",
    "    for i, label in enumerate(feat_labels):\n",
    "        # Predicted fMRI signal\n",
    "        _brain = np.array([brain_pred[i,]])  # To make feat shape 1 x M x N x ...\n",
    "\n",
    "        # Save file name\n",
    "        save_file = os.path.join(output_dir, '%s.mat' % label)\n",
    "\n",
    "        # Save\n",
    "        save_array(save_file, _brain, key='fmri', dtype=np.float32, sparse=False)\n",
    "\n",
    "    print('Saved %s' % output_diir)\n"
   ]
  },
  {
   "cell_type": "markdown",
   "metadata": {},
   "source": [
    "## Evaluation"
   ]
  },
  {
   "cell_type": "markdown",
   "metadata": {},
   "source": [
    "# TBA"
   ]
  },
  {
   "cell_type": "markdown",
   "metadata": {},
   "source": [
    "## Visualization"
   ]
  },
  {
   "cell_type": "markdown",
   "metadata": {},
   "source": [
    "# TBA"
   ]
  }
 ],
 "metadata": {
  "kernelspec": {
   "display_name": "base",
   "language": "python",
   "name": "base"
  },
  "language_info": {
   "codemirror_mode": {
    "name": "ipython",
    "version": 3
   },
   "file_extension": ".py",
   "mimetype": "text/x-python",
   "name": "python",
   "nbconvert_exporter": "python",
   "pygments_lexer": "ipython3",
   "version": "3.8.5"
  }
 },
 "nbformat": 4,
 "nbformat_minor": 2
}

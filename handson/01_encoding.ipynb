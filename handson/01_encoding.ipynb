{
 "cells": [
  {
   "cell_type": "markdown",
   "metadata": {},
   "source": [
    "# Hands-on Tutorial for Encoding Analysis (Predicting fMRI responses from DNN features)"
   ]
  },
  {
   "cell_type": "markdown",
   "metadata": {},
   "source": [
    "This notebook provides a hands-on tutorial for encoding analysis, which predicts fMRI responses from DNN features."
   ]
  },
  {
   "cell_type": "markdown",
   "metadata": {},
   "source": [
    "## Environment setup"
   ]
  },
  {
   "cell_type": "markdown",
   "metadata": {},
   "source": [
    "Run the following code block to install Python packages required for this notebook."
   ]
  },
  {
   "cell_type": "code",
   "execution_count": null,
   "metadata": {},
   "outputs": [],
   "source": [
    "!curl -O https://raw.githubusercontent.com/KamitaniLab/feature-encoding/main/requirements.txt\n",
    "!pip install -r requirements.txt"
   ]
  },
  {
   "cell_type": "markdown",
   "metadata": {},
   "source": [
    "Import required modules."
   ]
  },
  {
   "cell_type": "code",
   "execution_count": null,
   "metadata": {},
   "outputs": [],
   "source": [
    "import os\n",
    "from itertools import product\n",
    "\n",
    "import bdpy\n",
    "from bdpy.dataform import Features, DecodedFeatures, load_array, save_array\n",
    "from bdpy.evals.metrics import profile_correlation\n",
    "from bdpy.ml import ModelTraining, ModelTest\n",
    "from fastl2lir import FastL2LiR\n",
    "import matplotlib.pyplot as plt\n",
    "import numpy as np"
   ]
  },
  {
   "cell_type": "markdown",
   "metadata": {},
   "source": [
    "## Data preparation"
   ]
  },
  {
   "cell_type": "markdown",
   "metadata": {},
   "source": [
    "Download the dataset used in this notebook.\n",
    "Please ignore it if you have already downloaded the dataset."
   ]
  },
  {
   "cell_type": "code",
   "execution_count": null,
   "metadata": {},
   "outputs": [],
   "source": [
    "!mkdir data\n",
    "!curl -O https://raw.githubusercontent.com/KamitaniLab/feature-encoding/main/data/download.py\n",
    "!curl -O https://raw.githubusercontent.com/KamitaniLab/feature-encoding/main/data/files.json\n",
    "!python download.py fmri_deeprecon_sub-03_fmriprep_hcpvc\n",
    "!python download.py features_imagenet_training_vgg19_random5000\n",
    "!python download.py features_imagenet_test_vgg19_random5000\n",
    "!mv fmri data/\n",
    "!mv features data/"
   ]
  },
  {
   "cell_type": "markdown",
   "metadata": {},
   "source": [
    "Check the downloaded files."
   ]
  },
  {
   "cell_type": "code",
   "execution_count": null,
   "metadata": {},
   "outputs": [],
   "source": [
    "!ls -la data/"
   ]
  },
  {
   "cell_type": "markdown",
   "metadata": {},
   "source": [
    "Define data settings."
   ]
  },
  {
   "cell_type": "code",
   "execution_count": null,
   "metadata": {},
   "outputs": [],
   "source": [
    "# Data setting\n",
    "\n",
    "subject = \"sub-03\"\n",
    "rois = ['V1', 'V2', 'V3', 'V4', 'VentralVC']\n",
    "\n",
    "network = \"caffe/VGG19\"\n",
    "layers = [\"conv1_2\", \"fc8\"]\n",
    "\n",
    "training_fmri_path    = f\"./data/fmri/Deeprecon/{subject}_ImageNetTraining_fmriprep_volume_native_hcpvc.h5\"\n",
    "training_feature_path = f\"./data/features/ImageNetTraining/{network}_random5000\"\n",
    "\n",
    "test_fmri_path    = f\"./data/fmri/Deeprecon/{subject}_ImageNetTest_fmriprep_volume_native_hcpvc.h5\"\n",
    "test_feature_path = f\"./data/features/ImageNetTest/{network}_random5000\"\n",
    "\n",
    "# Outputs\n",
    "encoding_model_path = f\"./data/feature_encoders/handson/{network}_random5000\"\n",
    "encoded_fmri_path   = f\"./data/encoded_fmri/handson/{network}_random5000\"\n",
    "\n",
    "os.makedirs(encoding_model_path, exist_ok=True)\n",
    "os.makedirs(encoded_fmri_path, exist_ok=True)"
   ]
  },
  {
   "cell_type": "markdown",
   "metadata": {},
   "source": [
    "## Training of encoding models"
   ]
  },
  {
   "cell_type": "markdown",
   "metadata": {},
   "source": [
    "Define parameters of the prediction model.\n",
    "We use [FastL2LiR](https://github.com/KamitaniLab/PyFastL2LiR), fast ridge regression with relevant feature selection, as the prediction model.\n",
    "The model have two parameters.\n",
    "\n",
    "- `alpha`: Regularization parameter for ridge regression.\n",
    "- `num_feat`: Number of relevant features selected by the model."
   ]
  },
  {
   "cell_type": "code",
   "execution_count": null,
   "metadata": {},
   "outputs": [],
   "source": [
    "# Parameters of the encoding model\n",
    "\n",
    "# L2 regularization parameter\n",
    "alpha = 100\n",
    "\n",
    "# Number of features to select\n",
    "num_features = 500"
   ]
  },
  {
   "cell_type": "markdown",
   "metadata": {},
   "source": [
    "Load fMRI data and DNN features for training as `bdpy.BData` and `bdpy.dataform.Features` instances, respectively.  "
   ]
  },
  {
   "cell_type": "code",
   "execution_count": null,
   "metadata": {},
   "outputs": [],
   "source": [
    "# Load training data (fMRI and features)\n",
    "\n",
    "train_fmri = bdpy.BData(training_fmri_path)\n",
    "train_features = Features(training_feature_path)"
   ]
  },
  {
   "cell_type": "markdown",
   "metadata": {},
   "source": [
    "Define a helper function to train the encoding model for given layer and ROI."
   ]
  },
  {
   "cell_type": "code",
   "execution_count": null,
   "metadata": {},
   "outputs": [],
   "source": [
    "# Helper function to train the encoding model\n",
    "\n",
    "def train_model(layer, roi):\n",
    "    print(\"----------------------------------------\")\n",
    "    print(f\"Encoding: {layer} features -> {roi} fMRI\")\n",
    "\n",
    "    # Output directory\n",
    "    model_dir = os.path.join(encoding_model_path, layer, subject, roi, \"model\")\n",
    "    os.makedirs(model_dir, exist_ok=True)\n",
    "\n",
    "    # Extract fMRI data in the ROI\n",
    "    brain = train_fmri.select(f\"hcp180_{roi}\")\n",
    "    brain_labels = train_fmri.get_labels(\"stimulus_name\")\n",
    "    print(\"The shape of fMRI data array: \", brain.shape)\n",
    "\n",
    "    # Extract features\n",
    "    feat = train_features.get(layer)\n",
    "    feat_labels = train_features.labels\n",
    "    print(\"The shape of feature data array: \", feat.shape)\n",
    "\n",
    "    # Normalize data\n",
    "    brain_mean = np.mean(brain, axis=0)\n",
    "    brain_norm = np.std(brain, axis=0)\n",
    "    feat_mean = np.mean(feat, axis=0)\n",
    "    feat_norm = np.std(feat, axis=0)\n",
    "\n",
    "    save_array(os.path.join(model_dir, \"x_mean.mat\"), feat_mean, key=\"x_mean\", dtype=np.float32, sparse=False)\n",
    "    save_array(os.path.join(model_dir, \"x_norm.mat\"), feat_norm, key=\"x_norm\", dtype=np.float32, sparse=False)\n",
    "    save_array(os.path.join(model_dir, \"y_mean.mat\"), brain_mean, key=\"y_mean\", dtype=np.float32, sparse=False)\n",
    "    save_array(os.path.join(model_dir, \"y_norm.mat\"), brain_norm, key=\"y_norm\", dtype=np.float32, sparse=False)\n",
    "\n",
    "    # Index to align fMRI data and features\n",
    "    feat_index = np.array([np.where(np.array(feat_labels) == bl) for bl in brain_labels]).flatten()\n",
    "\n",
    "    # Setup model\n",
    "    model = FastL2LiR()\n",
    "    model_param = {\n",
    "        'alpha':  alpha,\n",
    "        'n_feat': num_features,\n",
    "        'dtype':  np.float32\n",
    "    }\n",
    "\n",
    "    # Setup model learner\n",
    "    train = ModelTraining(model, feat, brain)\n",
    "    train.model_parameters = model_param\n",
    "\n",
    "    train.X_normalize = {'mean': feat_mean,  'std': feat_norm}\n",
    "    train.Y_normalize = {'mean': brain_mean, 'std': brain_norm}\n",
    "    train.X_sort = {'index': feat_index}\n",
    "\n",
    "    train.dtype = np.float32\n",
    "    train.save_format = 'bdmodel'\n",
    "    train.save_path = model_dir\n",
    "\n",
    "    # Training\n",
    "    train.run()\n"
   ]
  },
  {
   "cell_type": "markdown",
   "metadata": {},
   "source": [
    "Try the training function for layer \"fc8\" and ROI \"V4\"."
   ]
  },
  {
   "cell_type": "code",
   "execution_count": null,
   "metadata": {},
   "outputs": [],
   "source": [
    "# Train model for fc8 and V4\n",
    "\n",
    "train_model(\"fc8\", \"V4\")"
   ]
  },
  {
   "cell_type": "markdown",
   "metadata": {},
   "source": [
    "The tranind model is saved in `./data/feature_encoders/handson/caffe/VGG19_random5000/<layer>/<subject>/<roi>/model`.\n",
    "The `model` directory should contain the following files.\n",
    "\n",
    "- `W.mat`: Weight matrix of the model.\n",
    "- `b.mat`: Bias vector of the model.\n",
    "- `x_mean.mat`, `x_norm.mat`, `y_mean.mat`, `y_norm.mat`: Mean and standard deviation of the input and output data.\n",
    "- `info.yaml`: Runtime information of the model training."
   ]
  },
  {
   "cell_type": "code",
   "execution_count": null,
   "metadata": {},
   "outputs": [],
   "source": [
    "!ls -la ./data/feature_encoders/handson/caffe/VGG19_random5000/fc8/sub-03/V4/model/"
   ]
  },
  {
   "cell_type": "markdown",
   "metadata": {},
   "source": [
    "Train encoding models for all layers and ROIs defined above."
   ]
  },
  {
   "cell_type": "code",
   "execution_count": null,
   "metadata": {},
   "outputs": [],
   "source": [
    "# Train models for all layers and ROIs\n",
    "\n",
    "for layer, roi in product(layers, rois):\n",
    "    train_model(layer, roi)"
   ]
  },
  {
   "cell_type": "markdown",
   "metadata": {},
   "source": [
    "## Prediction of fMRI responses"
   ]
  },
  {
   "cell_type": "markdown",
   "metadata": {},
   "source": [
    "Load DNN features for testing."
   ]
  },
  {
   "cell_type": "code",
   "execution_count": null,
   "metadata": {},
   "outputs": [],
   "source": [
    "# Load test data (DNN features)\n",
    "\n",
    "test_features = Features(test_feature_path)"
   ]
  },
  {
   "cell_type": "markdown",
   "metadata": {},
   "source": [
    "Run the following code block to predict fMRI responses for all layers and ROIs defined above."
   ]
  },
  {
   "cell_type": "code",
   "execution_count": null,
   "metadata": {},
   "outputs": [],
   "source": [
    "# Predict fMRI responses\n",
    "\n",
    "for layer, roi in product(layers, rois):\n",
    "    print(\"----------------------------------------\")\n",
    "    print(f\"Encoding: {layer} features -> {roi} fMRI\")\n",
    "\n",
    "    # Output directory\n",
    "    output_dir = os.path.join(encoded_fmri_path, layer, subject, roi)\n",
    "    os.makedirs(output_dir, exist_ok=True)\n",
    "\n",
    "    # Trained encoding model\n",
    "    model_dir = os.path.join(encoding_model_path, layer, subject, roi, \"model\")\n",
    "\n",
    "    # Extract features\n",
    "    feat = test_features.get(layer=layer)\n",
    "    feat = feat.astype(np.float32)\n",
    "    feat = feat.reshape(feat.shape[0], -1, order='F')\n",
    "    feat_labels = test_features.labels\n",
    "    print(\"The shape of feature data array: \", feat.shape)\n",
    "\n",
    "    # Normalize data by mean and SD of training data\n",
    "    feat_mean = load_array(os.path.join(model_dir, 'x_mean.mat'), key='x_mean')  # shape = (1, n_voxels)\n",
    "    feat_norm = load_array(os.path.join(model_dir, 'x_norm.mat'), key='x_norm')  # shape = (1, n_voxels)\n",
    "\n",
    "    feat = (feat - feat_mean) / feat_norm\n",
    "\n",
    "    # Prediction\n",
    "    model = FastL2LiR()\n",
    "    test = ModelTest(model, feat)\n",
    "    test.model_format = 'bdmodel'\n",
    "    test.model_path = model_dir\n",
    "    test.dtype = np.float32\n",
    "\n",
    "    brain_pred = test.run()\n",
    "\n",
    "    print(\"The shape of predicted fMRI data array: \", brain_pred.shape)\n",
    "\n",
    "    # De-normalize predicted fMRI data\n",
    "    brain_mean = load_array(os.path.join(model_dir, 'y_mean.mat'), key='y_mean')  # shape = (1, shape_features)\n",
    "    brain_norm = load_array(os.path.join(model_dir, 'y_norm.mat'), key='y_norm')  # shape = (1, shape_features)\n",
    "\n",
    "    brain_pred = brain_pred * brain_norm + brain_mean\n",
    "\n",
    "    # Save the predicted fMRI responses\n",
    "    for i, label in enumerate(feat_labels):\n",
    "        # Predicted fMRI signal\n",
    "        _brain = np.array([brain_pred[i,]])  # To make feat shape 1 x M x N x ...\n",
    "\n",
    "        # Save file name\n",
    "        save_file = os.path.join(output_dir, '%s.mat' % label)\n",
    "\n",
    "        # Save\n",
    "        save_array(save_file, _brain, key='fmri', dtype=np.float32, sparse=False)\n",
    "\n",
    "    print('Saved %s' % output_dir)\n"
   ]
  },
  {
   "cell_type": "markdown",
   "metadata": {},
   "source": [
    "The predicted fMRI reponses are saved in `./data/encoded_fmri/handson/caffe/VGG19_random5000/<layer>/<subject>/<roi>/`.\n",
    "The directory contains matfiles that contain the predicted fMRI responses for each sample."
   ]
  },
  {
   "cell_type": "code",
   "execution_count": null,
   "metadata": {},
   "outputs": [],
   "source": [
    "!ls ./data/encoded_fmri/handson/caffe/VGG19_random5000/conv1_2/sub-03/V1/"
   ]
  },
  {
   "cell_type": "markdown",
   "metadata": {},
   "source": [
    "## Evaluation"
   ]
  },
  {
   "cell_type": "markdown",
   "metadata": {},
   "source": [
    "Load the predicted and ground-truth fMRI responses."
   ]
  },
  {
   "cell_type": "code",
   "execution_count": null,
   "metadata": {},
   "outputs": [],
   "source": [
    "predicted_fmri = DecodedFeatures(encoded_fmri_path, file_key=\"fmri\")\n",
    "# Note: `DecodedFeatures` class is designed to handle decoded features, but it can also be used to load predicted fMRI signals here\n",
    "# because the predicted fMRI signals are stored in the same format as decoded features.\n",
    "\n",
    "test_fmri = bdpy.BData(test_fmri_path)"
   ]
  },
  {
   "cell_type": "markdown",
   "metadata": {},
   "source": [
    "Calculate correlation coefficients between the predicted and ground-truth fMRI responses as prediction accuracy."
   ]
  },
  {
   "cell_type": "code",
   "execution_count": null,
   "metadata": {},
   "outputs": [],
   "source": [
    "prediction_accuracies = {}\n",
    "\n",
    "average_sample = True\n",
    "\n",
    "for layer, roi in product(layers, rois):\n",
    "    # Extract predicted and ground truth fMRI signals as arrays\n",
    "    pred_fmri = predicted_fmri.get(layer=layer, subject=subject, roi=roi)\n",
    "    pred_labels = predicted_fmri.selected_label\n",
    "\n",
    "    gt_fmri = test_fmri.select(f\"hcp180_{roi}\")\n",
    "    gt_labels = test_fmri.get_label(\"stimulus_name\")\n",
    "\n",
    "    pred_labels = np.array(pred_labels)\n",
    "    gt_labels = np.array(gt_labels)\n",
    "\n",
    "    # [Optional] average GT fMRI signals across trials\n",
    "    if average_sample:\n",
    "        gt_labels_unique = np.unique(gt_labels)\n",
    "        gt_fmri = np.stack([np.mean(gt_fmri[np.where(gt_labels == label)[0], :], axis=0) for label in gt_labels_unique])\n",
    "        gt_labels = gt_labels_unique\n",
    "\n",
    "    # Sort pred_fmri as gt_fmri\n",
    "    sort_index = np.array([np.where(pred_labels == label)[0] for label in gt_labels]).ravel()\n",
    "    pred_fmri = pred_fmri[sort_index, :]\n",
    "\n",
    "    # Calculate prediction accuracy (voxel-wise correlation between predicted and ground truth fMRI signals; profile correlation)\n",
    "    r_prof = profile_correlation(pred_fmri, gt_fmri)\n",
    "\n",
    "    prediction_accuracies[(layer, subject, roi)] = r_prof\n",
    "\n"
   ]
  },
  {
   "cell_type": "markdown",
   "metadata": {},
   "source": [
    "Plot the prediction accuracy."
   ]
  },
  {
   "cell_type": "code",
   "execution_count": null,
   "metadata": {},
   "outputs": [],
   "source": [
    "# Make plots\n",
    "\n",
    "fig = plt.figure(figsize=(16, 12))\n",
    "\n",
    "xpos = np.arange(len(rois))\n",
    "\n",
    "subjects = [subject]\n",
    "\n",
    "for i, layer in enumerate(layers):\n",
    "    ax = fig.add_subplot(3, 3, i + 1)\n",
    "\n",
    "    handles = []\n",
    "    for j, sub in enumerate(subjects):\n",
    "        y = []\n",
    "        for k, roi in enumerate(rois):\n",
    "            r_prof = prediction_accuracies[(layer, sub, roi)]\n",
    "            y.append(r_prof.ravel())\n",
    "\n",
    "        #x = xpos + 0.2 * (j - 1)\n",
    "        x = xpos\n",
    " \n",
    "        p = ax.violinplot(y, positions=x, widths=0.2, showmeans=True, showextrema=False)\n",
    "        handles.append(p[\"bodies\"][0])\n",
    "\n",
    "    ax.plot([-1, len(rois)], [0, 0], 'k--', linewidth=1)\n",
    "\n",
    "    ax.set_title(layer, loc=\"left\")\n",
    "    ax.set_xlim([-0.5, len(rois) - 0.5])\n",
    "    ax.set_xticks(xpos)\n",
    "    ax.set_xticklabels(rois)\n",
    "    ax.set_ylabel(\"Prediction accuracy (correlation)\")\n",
    "    ax.spines['top'].set_visible(False)\n",
    "    ax.spines['right'].set_visible(False)\n",
    "\n",
    "plt.legend(handles, subjects, loc='upper left', bbox_to_anchor=(1, 1))\n",
    "\n",
    "plt.show()"
   ]
  }
 ],
 "metadata": {
  "kernelspec": {
   "display_name": "base",
   "language": "python",
   "name": "base"
  },
  "language_info": {
   "codemirror_mode": {
    "name": "ipython",
    "version": 3
   },
   "file_extension": ".py",
   "mimetype": "text/x-python",
   "name": "python",
   "nbconvert_exporter": "python",
   "pygments_lexer": "ipython3",
   "version": "3.8.5"
  }
 },
 "nbformat": 4,
 "nbformat_minor": 2
}
